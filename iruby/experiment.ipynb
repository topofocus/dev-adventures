{
 "cells": [
  {
   "cell_type": "code",
   "execution_count": 1,
   "id": "ebccbb93",
   "metadata": {},
   "outputs": [
    {
     "data": {
      "text/html": [
       "<h2>DEV Adventures</h2>"
      ],
      "text/plain": [
       "\"<h2>DEV Adventures</h2>\""
      ]
     },
     "metadata": {},
     "output_type": "display_data"
    },
    {
     "data": {
      "text/html": [
       "<h3>Jupyter Integration</h3>"
      ],
      "text/plain": [
       "\"<h3>Jupyter Integration</h3>\""
      ]
     },
     "metadata": {},
     "output_type": "display_data"
    },
    {
     "data": {
      "text/plain": [
       "true"
      ]
     },
     "execution_count": 1,
     "metadata": {},
     "output_type": "execute_result"
    }
   ],
   "source": [
    "require_relative 'db-console'"
   ]
  },
  {
   "cell_type": "code",
   "execution_count": 2,
   "id": "d192c517",
   "metadata": {
    "scrolled": true
   },
   "outputs": [
    {
     "data": {
      "text/plain": [
       "\"adventures\""
      ]
     },
     "execution_count": 2,
     "metadata": {},
     "output_type": "execute_result"
    }
   ],
   "source": [
    "DB.database"
   ]
  },
  {
   "cell_type": "code",
   "execution_count": 3,
   "id": "b8838284",
   "metadata": {
    "scrolled": true
   },
   "outputs": [],
   "source": [
    "unless Arcade::Api.databases.include? DB.database \n",
    "  Arcade::Api.create_database DB::database\n",
    "end"
   ]
  },
  {
   "cell_type": "markdown",
   "id": "18632f00",
   "metadata": {},
   "source": [
    "Initialise Database Types"
   ]
  },
  {
   "cell_type": "code",
   "execution_count": 5,
   "id": "c21ec838",
   "metadata": {
    "scrolled": true
   },
   "outputs": [
    {
     "data": {
      "text/plain": [
       "true"
      ]
     },
     "execution_count": 5,
     "metadata": {},
     "output_type": "execute_result"
    }
   ],
   "source": [
    "Arcade::Account.create_type"
   ]
  },
  {
   "cell_type": "code",
   "execution_count": 7,
   "id": "d536e07e",
   "metadata": {
    "scrolled": true
   },
   "outputs": [
    {
     "data": {
      "text/html": [
       "<span style=\"color: #50953DFF\"><b>Account</b><Account</b>[#4:0] : {0->}{->0}</span>< marta@test.com, marta, 73, 0298 345 6533 >"
      ],
      "text/plain": [
       "\"<span style=\\\"color: #50953DFF\\\"><b>Account</b><Account</b>[#4:0] : {0->}{->0}</span>< marta@test.com, marta, 73, 0298 345 6533 >\""
      ]
     },
     "metadata": {},
     "output_type": "display_data"
    },
    {
     "data": {},
     "execution_count": 7,
     "metadata": {},
     "output_type": "execute_result"
    }
   ],
   "source": [
    "Arcade::Account.insert name: 'hugo', mail: 'hugo@test.com', age: 37, home: '0098 565 4433'\n",
    "Arcade::Account.insert name: 'marta', mail: 'marta@test.com', age: 73, home: '0298 345 6533'"
   ]
  },
  {
   "cell_type": "code",
   "execution_count": 8,
   "id": "0724c3b2",
   "metadata": {},
   "outputs": [
    {
     "data": {
      "text/plain": [
       "2"
      ]
     },
     "execution_count": 8,
     "metadata": {},
     "output_type": "execute_result"
    }
   ],
   "source": [
    "Arcade::Account.count"
   ]
  },
  {
   "cell_type": "code",
   "execution_count": 9,
   "id": "46456d5b",
   "metadata": {},
   "outputs": [
    {
     "data": {
      "text/html": [
       "<table><tr><td>mail</td><td>name</td><td>age</td><td>home</td></tr><tr><td>hugo@test.com</td><td>hugo</td><td>37</td><td>0098 565 4433</td></tr><tr><td>marta@test.com</td><td>marta</td><td>73</td><td>0298 345 6533</td></tr></table>"
      ],
      "text/plain": [
       "\"<table><tr><td>mail</td><td>name</td><td>age</td><td>home</td></tr><tr><td>hugo@test.com</td><td>hugo</td><td>37</td><td>0098 565 4433</td></tr><tr><td>marta@test.com</td><td>marta</td><td>73</td><td>0298 345 6533</td></tr></table>\""
      ]
     },
     "metadata": {},
     "output_type": "display_data"
    },
    {
     "data": {},
     "execution_count": 9,
     "metadata": {},
     "output_type": "execute_result"
    }
   ],
   "source": [
    "Arcade::Account.all"
   ]
  }
 ],
 "metadata": {
  "kernelspec": {
   "display_name": "Ruby 3.2.0",
   "language": "ruby",
   "name": "ruby"
  },
  "language_info": {
   "file_extension": ".rb",
   "mimetype": "application/x-ruby",
   "name": "ruby",
   "version": "3.2.0"
  }
 },
 "nbformat": 4,
 "nbformat_minor": 5
}
